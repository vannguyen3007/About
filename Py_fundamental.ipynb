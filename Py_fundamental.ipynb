{
  "nbformat": 4,
  "nbformat_minor": 0,
  "metadata": {
    "colab": {
      "name": "Py_fundamental.ipynb",
      "private_outputs": true,
      "provenance": [],
      "authorship_tag": "ABX9TyNWDcEHAGU5Xfx9cnU9XPye",
      "include_colab_link": true
    },
    "kernelspec": {
      "name": "python3",
      "display_name": "Python 3"
    },
    "language_info": {
      "name": "python"
    }
  },
  "cells": [
    {
      "cell_type": "markdown",
      "metadata": {
        "id": "view-in-github",
        "colab_type": "text"
      },
      "source": [
        "<a href=\"https://colab.research.google.com/github/vannguyen3007/About/blob/master/Py_fundamental.ipynb\" target=\"_parent\"><img src=\"https://colab.research.google.com/assets/colab-badge.svg\" alt=\"Open In Colab\"/></a>"
      ]
    },
    {
      "cell_type": "markdown",
      "metadata": {
        "id": "fV5piX5acX_-"
      },
      "source": [
        "Create variable "
      ]
    },
    {
      "cell_type": "code",
      "metadata": {
        "id": "L2jb638FcPdS"
      },
      "source": [
        "my_age = \"18\"\n",
        "half_my_age = \"9\"\n",
        "greeting = \"hey\"\n",
        "name = \"barack obama\"\n",
        "greeting_with_name = print(greeting + name + my_age)"
      ],
      "execution_count": null,
      "outputs": []
    },
    {
      "cell_type": "markdown",
      "metadata": {
        "id": "nElP_QQ0c939"
      },
      "source": [
        "modulo_variable = 14 % 4 ( that is mutiple) \n",
        "\n",
        "** Built-in Types | Python\n",
        "\n",
        "1.   Python Syntax: Medical Insurance Project\n",
        "Suppose you are a medical professional curious about how certain factors contribute to medical insurance costs. Using a formula that estimates a person's yearly insurance costs, you will investigate how differenr factors such as age, sex, BMI, ect.. affect the prediction.\n",
        "\n"
      ]
    },
    {
      "cell_type": "code",
      "metadata": {
        "id": "t6Q09sIJdEoj"
      },
      "source": [
        "def trip_planner_welcom(name):\n",
        "  print(\"Welcom to tripplanner v1.0\"+name)\n",
        "\n",
        "def destination_setup(origin, destination, estimated_time, \n",
        "                      mode_of_transport = \"Car\"):\n",
        "  print(\"Your trip starts off in\" + origin)\n",
        "  print(\"And you are traveling to\" + destination)\n",
        "  print(\"It will take approximately\" + str(estimate_time) + \"hours\")\n",
        "\n",
        "def estimated_time_rounded(estimate_time):\n",
        "  rounded_time = round \n",
        "  return rounded_time   "
      ],
      "execution_count": null,
      "outputs": []
    },
    {
      "cell_type": "code",
      "metadata": {
        "id": "cA-bf4MWp0Xj"
      },
      "source": [
        "def force(mass, acceleration):\n",
        "  force_val = mass*acceleration\n",
        "  return force_val "
      ],
      "execution_count": null,
      "outputs": []
    },
    {
      "cell_type": "code",
      "metadata": {
        "id": "yDyGDdTEtF0x"
      },
      "source": [
        "force(10,9.81)"
      ],
      "execution_count": null,
      "outputs": []
    },
    {
      "cell_type": "code",
      "metadata": {
        "id": "vMUzONHEtL3R"
      },
      "source": [
        "def update(new_value = 10):\n",
        "  old_value = new_value "
      ],
      "execution_count": null,
      "outputs": []
    },
    {
      "cell_type": "code",
      "metadata": {
        "id": "T9r8L2OstcBQ"
      },
      "source": [
        "update(20)"
      ],
      "execution_count": null,
      "outputs": []
    },
    {
      "cell_type": "code",
      "metadata": {
        "id": "nt_oGplvteC_"
      },
      "source": [
        "time = \"3pm\"\n",
        "mood = \"good\"\n",
        "\n",
        "def report():\n",
        "  print(\"The current time is\" + time)\n",
        "  print(\"The mood is\"+ mood)\n",
        "\n",
        "  print(\"Beginning of report\")\n",
        "\n",
        "report()\n"
      ],
      "execution_count": null,
      "outputs": []
    },
    {
      "cell_type": "markdown",
      "metadata": {
        "id": "sIzdtjssvblE"
      },
      "source": [
        "## để in lũ kia ra "
      ]
    },
    {
      "cell_type": "code",
      "metadata": {
        "id": "bPzt8sUwvQnz"
      },
      "source": [
        "def quote(x):\n",
        "   print(\"There is no greater agony than bearing\" + x + \"inside you.\")"
      ],
      "execution_count": null,
      "outputs": []
    },
    {
      "cell_type": "code",
      "metadata": {
        "id": "ld2eh_IAvxSq"
      },
      "source": [
        "quote(\"an untold story\")"
      ],
      "execution_count": null,
      "outputs": []
    },
    {
      "cell_type": "markdown",
      "metadata": {
        "id": "j3C2yuT0wHnY"
      },
      "source": [
        "variable is assigned inner_var from a function back that called the function \n",
        "\n",
        "*return inner_var*\n",
        "\n",
        "setup with no arguments \n"
      ]
    },
    {
      "cell_type": "code",
      "metadata": {
        "id": "U9QKm3xbv7Hg"
      },
      "source": [
        "counter = 0\n",
        "\n",
        "def update():\n",
        "  new_counter = counter + 1\n",
        "  return new_counter\n",
        "\n"
      ],
      "execution_count": null,
      "outputs": []
    },
    {
      "cell_type": "markdown",
      "metadata": {
        "id": "o_c3BEfD2332"
      },
      "source": [
        "* Function Syntax "
      ]
    },
    {
      "cell_type": "code",
      "metadata": {
        "id": "bECbbjho0miB"
      },
      "source": [
        "def first_plus_last(lst):\n",
        "  return lst[0] + lst[-1]\n",
        "\n",
        "first_plus_last([1,2,3,4])  \n",
        "first_plus_last([-10,2,3,-4])"
      ],
      "execution_count": null,
      "outputs": []
    },
    {
      "cell_type": "code",
      "metadata": {
        "id": "c7G7KEyK3B8l"
      },
      "source": [
        "def tenth_power(num):\n",
        "  return num **10\n",
        "\n",
        "print(tenth_power(2))"
      ],
      "execution_count": null,
      "outputs": []
    },
    {
      "cell_type": "code",
      "metadata": {
        "id": "XqaWLTZT3jQk"
      },
      "source": [
        ""
      ],
      "execution_count": null,
      "outputs": []
    }
  ]
}